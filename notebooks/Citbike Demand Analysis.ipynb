{
 "cells": [
  {
   "cell_type": "markdown",
   "id": "ce81d935",
   "metadata": {},
   "source": [
    "# Citibike Demand Analysis\n",
    "\n",
    "In this notebook we'll cover the following:\n",
    "- Analyze Citibike ride data to provide a fundamental understanding of the dataset\n",
    "- Establish key findings and relationships from the data\n",
    "- Build a demand model that can predict demand for bikes"
   ]
  },
  {
   "cell_type": "markdown",
   "id": "321a5e0e",
   "metadata": {},
   "source": [
    "# Notebook/Data Setup\n",
    "\n",
    "First we need to get installations and imports out of the way, as well as load the data. "
   ]
  },
  {
   "cell_type": "code",
   "execution_count": 4,
   "id": "0aab837d",
   "metadata": {},
   "outputs": [],
   "source": [
    "import pandas as pd\n",
    "import numpy as np\n",
    "import matplotlib.pyplot as plt\n",
    "import seaborn as sns\n",
    "import os\n",
    "import glob\n",
    "import ssl"
   ]
  },
  {
   "cell_type": "markdown",
   "id": "ebacd6b9",
   "metadata": {},
   "source": [
    "The data is available in S3 here: https://s3.amazonaws.com/tripdata/index.html\n",
    "\n",
    "Each file in the S3 bucket is 1 month of data with the filename formatted like YYYYMM-citibike-tripdata.csv.zip.\n",
    "\n",
    "Each file is a zip file, but pandas can read csv from a zip file so no need to worry about unpacking the files. \n",
    "\n",
    "As a note, Python 3.6+ on OSx will have certificate issues trying to access the url without creating an unverified context using the ssl module. I'm using a mac to do this project, so code is included. "
   ]
  },
  {
   "cell_type": "code",
   "execution_count": 15,
   "id": "55bdd4db",
   "metadata": {},
   "outputs": [
    {
     "ename": "ValueError",
     "evalue": "Multiple files found in ZIP file. Only one file per ZIP: ['202104-citibike-tripdata.csv', '__MACOSX/._202104-citibike-tripdata.csv']",
     "output_type": "error",
     "traceback": [
      "\u001b[0;31m---------------------------------------------------------------------------\u001b[0m",
      "\u001b[0;31mValueError\u001b[0m                                Traceback (most recent call last)",
      "Input \u001b[0;32mIn [15]\u001b[0m, in \u001b[0;36m<module>\u001b[0;34m\u001b[0m\n\u001b[0;32m----> 1\u001b[0m data \u001b[38;5;241m=\u001b[39m \u001b[43mpd\u001b[49m\u001b[38;5;241;43m.\u001b[39;49m\u001b[43mread_csv\u001b[49m\u001b[43m(\u001b[49m\u001b[38;5;124;43m'\u001b[39;49m\u001b[38;5;124;43mhttps://s3.amazonaws.com/tripdata/202104-citibike-tripdata.csv.zip\u001b[39;49m\u001b[38;5;124;43m'\u001b[39;49m\u001b[43m,\u001b[49m\u001b[43m \u001b[49m\u001b[43mnrows\u001b[49m\u001b[38;5;241;43m=\u001b[39;49m\u001b[38;5;241;43m3\u001b[39;49m\u001b[43m)\u001b[49m\n\u001b[1;32m      2\u001b[0m data\u001b[38;5;241m.\u001b[39mhead()\n",
      "File \u001b[0;32m/Library/Frameworks/Python.framework/Versions/3.8/lib/python3.8/site-packages/pandas/util/_decorators.py:311\u001b[0m, in \u001b[0;36mdeprecate_nonkeyword_arguments.<locals>.decorate.<locals>.wrapper\u001b[0;34m(*args, **kwargs)\u001b[0m\n\u001b[1;32m    305\u001b[0m \u001b[38;5;28;01mif\u001b[39;00m \u001b[38;5;28mlen\u001b[39m(args) \u001b[38;5;241m>\u001b[39m num_allow_args:\n\u001b[1;32m    306\u001b[0m     warnings\u001b[38;5;241m.\u001b[39mwarn(\n\u001b[1;32m    307\u001b[0m         msg\u001b[38;5;241m.\u001b[39mformat(arguments\u001b[38;5;241m=\u001b[39marguments),\n\u001b[1;32m    308\u001b[0m         \u001b[38;5;167;01mFutureWarning\u001b[39;00m,\n\u001b[1;32m    309\u001b[0m         stacklevel\u001b[38;5;241m=\u001b[39mstacklevel,\n\u001b[1;32m    310\u001b[0m     )\n\u001b[0;32m--> 311\u001b[0m \u001b[38;5;28;01mreturn\u001b[39;00m \u001b[43mfunc\u001b[49m\u001b[43m(\u001b[49m\u001b[38;5;241;43m*\u001b[39;49m\u001b[43margs\u001b[49m\u001b[43m,\u001b[49m\u001b[43m \u001b[49m\u001b[38;5;241;43m*\u001b[39;49m\u001b[38;5;241;43m*\u001b[39;49m\u001b[43mkwargs\u001b[49m\u001b[43m)\u001b[49m\n",
      "File \u001b[0;32m/Library/Frameworks/Python.framework/Versions/3.8/lib/python3.8/site-packages/pandas/io/parsers/readers.py:586\u001b[0m, in \u001b[0;36mread_csv\u001b[0;34m(filepath_or_buffer, sep, delimiter, header, names, index_col, usecols, squeeze, prefix, mangle_dupe_cols, dtype, engine, converters, true_values, false_values, skipinitialspace, skiprows, skipfooter, nrows, na_values, keep_default_na, na_filter, verbose, skip_blank_lines, parse_dates, infer_datetime_format, keep_date_col, date_parser, dayfirst, cache_dates, iterator, chunksize, compression, thousands, decimal, lineterminator, quotechar, quoting, doublequote, escapechar, comment, encoding, encoding_errors, dialect, error_bad_lines, warn_bad_lines, on_bad_lines, delim_whitespace, low_memory, memory_map, float_precision, storage_options)\u001b[0m\n\u001b[1;32m    571\u001b[0m kwds_defaults \u001b[38;5;241m=\u001b[39m _refine_defaults_read(\n\u001b[1;32m    572\u001b[0m     dialect,\n\u001b[1;32m    573\u001b[0m     delimiter,\n\u001b[0;32m   (...)\u001b[0m\n\u001b[1;32m    582\u001b[0m     defaults\u001b[38;5;241m=\u001b[39m{\u001b[38;5;124m\"\u001b[39m\u001b[38;5;124mdelimiter\u001b[39m\u001b[38;5;124m\"\u001b[39m: \u001b[38;5;124m\"\u001b[39m\u001b[38;5;124m,\u001b[39m\u001b[38;5;124m\"\u001b[39m},\n\u001b[1;32m    583\u001b[0m )\n\u001b[1;32m    584\u001b[0m kwds\u001b[38;5;241m.\u001b[39mupdate(kwds_defaults)\n\u001b[0;32m--> 586\u001b[0m \u001b[38;5;28;01mreturn\u001b[39;00m \u001b[43m_read\u001b[49m\u001b[43m(\u001b[49m\u001b[43mfilepath_or_buffer\u001b[49m\u001b[43m,\u001b[49m\u001b[43m \u001b[49m\u001b[43mkwds\u001b[49m\u001b[43m)\u001b[49m\n",
      "File \u001b[0;32m/Library/Frameworks/Python.framework/Versions/3.8/lib/python3.8/site-packages/pandas/io/parsers/readers.py:482\u001b[0m, in \u001b[0;36m_read\u001b[0;34m(filepath_or_buffer, kwds)\u001b[0m\n\u001b[1;32m    479\u001b[0m _validate_names(kwds\u001b[38;5;241m.\u001b[39mget(\u001b[38;5;124m\"\u001b[39m\u001b[38;5;124mnames\u001b[39m\u001b[38;5;124m\"\u001b[39m, \u001b[38;5;28;01mNone\u001b[39;00m))\n\u001b[1;32m    481\u001b[0m \u001b[38;5;66;03m# Create the parser.\u001b[39;00m\n\u001b[0;32m--> 482\u001b[0m parser \u001b[38;5;241m=\u001b[39m \u001b[43mTextFileReader\u001b[49m\u001b[43m(\u001b[49m\u001b[43mfilepath_or_buffer\u001b[49m\u001b[43m,\u001b[49m\u001b[43m \u001b[49m\u001b[38;5;241;43m*\u001b[39;49m\u001b[38;5;241;43m*\u001b[39;49m\u001b[43mkwds\u001b[49m\u001b[43m)\u001b[49m\n\u001b[1;32m    484\u001b[0m \u001b[38;5;28;01mif\u001b[39;00m chunksize \u001b[38;5;129;01mor\u001b[39;00m iterator:\n\u001b[1;32m    485\u001b[0m     \u001b[38;5;28;01mreturn\u001b[39;00m parser\n",
      "File \u001b[0;32m/Library/Frameworks/Python.framework/Versions/3.8/lib/python3.8/site-packages/pandas/io/parsers/readers.py:811\u001b[0m, in \u001b[0;36mTextFileReader.__init__\u001b[0;34m(self, f, engine, **kwds)\u001b[0m\n\u001b[1;32m    808\u001b[0m \u001b[38;5;28;01mif\u001b[39;00m \u001b[38;5;124m\"\u001b[39m\u001b[38;5;124mhas_index_names\u001b[39m\u001b[38;5;124m\"\u001b[39m \u001b[38;5;129;01min\u001b[39;00m kwds:\n\u001b[1;32m    809\u001b[0m     \u001b[38;5;28mself\u001b[39m\u001b[38;5;241m.\u001b[39moptions[\u001b[38;5;124m\"\u001b[39m\u001b[38;5;124mhas_index_names\u001b[39m\u001b[38;5;124m\"\u001b[39m] \u001b[38;5;241m=\u001b[39m kwds[\u001b[38;5;124m\"\u001b[39m\u001b[38;5;124mhas_index_names\u001b[39m\u001b[38;5;124m\"\u001b[39m]\n\u001b[0;32m--> 811\u001b[0m \u001b[38;5;28mself\u001b[39m\u001b[38;5;241m.\u001b[39m_engine \u001b[38;5;241m=\u001b[39m \u001b[38;5;28;43mself\u001b[39;49m\u001b[38;5;241;43m.\u001b[39;49m\u001b[43m_make_engine\u001b[49m\u001b[43m(\u001b[49m\u001b[38;5;28;43mself\u001b[39;49m\u001b[38;5;241;43m.\u001b[39;49m\u001b[43mengine\u001b[49m\u001b[43m)\u001b[49m\n",
      "File \u001b[0;32m/Library/Frameworks/Python.framework/Versions/3.8/lib/python3.8/site-packages/pandas/io/parsers/readers.py:1040\u001b[0m, in \u001b[0;36mTextFileReader._make_engine\u001b[0;34m(self, engine)\u001b[0m\n\u001b[1;32m   1036\u001b[0m     \u001b[38;5;28;01mraise\u001b[39;00m \u001b[38;5;167;01mValueError\u001b[39;00m(\n\u001b[1;32m   1037\u001b[0m         \u001b[38;5;124mf\u001b[39m\u001b[38;5;124m\"\u001b[39m\u001b[38;5;124mUnknown engine: \u001b[39m\u001b[38;5;132;01m{\u001b[39;00mengine\u001b[38;5;132;01m}\u001b[39;00m\u001b[38;5;124m (valid options are \u001b[39m\u001b[38;5;132;01m{\u001b[39;00mmapping\u001b[38;5;241m.\u001b[39mkeys()\u001b[38;5;132;01m}\u001b[39;00m\u001b[38;5;124m)\u001b[39m\u001b[38;5;124m\"\u001b[39m\n\u001b[1;32m   1038\u001b[0m     )\n\u001b[1;32m   1039\u001b[0m \u001b[38;5;66;03m# error: Too many arguments for \"ParserBase\"\u001b[39;00m\n\u001b[0;32m-> 1040\u001b[0m \u001b[38;5;28;01mreturn\u001b[39;00m \u001b[43mmapping\u001b[49m\u001b[43m[\u001b[49m\u001b[43mengine\u001b[49m\u001b[43m]\u001b[49m\u001b[43m(\u001b[49m\u001b[38;5;28;43mself\u001b[39;49m\u001b[38;5;241;43m.\u001b[39;49m\u001b[43mf\u001b[49m\u001b[43m,\u001b[49m\u001b[43m \u001b[49m\u001b[38;5;241;43m*\u001b[39;49m\u001b[38;5;241;43m*\u001b[39;49m\u001b[38;5;28;43mself\u001b[39;49m\u001b[38;5;241;43m.\u001b[39;49m\u001b[43moptions\u001b[49m\u001b[43m)\u001b[49m\n",
      "File \u001b[0;32m/Library/Frameworks/Python.framework/Versions/3.8/lib/python3.8/site-packages/pandas/io/parsers/c_parser_wrapper.py:51\u001b[0m, in \u001b[0;36mCParserWrapper.__init__\u001b[0;34m(self, src, **kwds)\u001b[0m\n\u001b[1;32m     48\u001b[0m kwds[\u001b[38;5;124m\"\u001b[39m\u001b[38;5;124musecols\u001b[39m\u001b[38;5;124m\"\u001b[39m] \u001b[38;5;241m=\u001b[39m \u001b[38;5;28mself\u001b[39m\u001b[38;5;241m.\u001b[39musecols\n\u001b[1;32m     50\u001b[0m \u001b[38;5;66;03m# open handles\u001b[39;00m\n\u001b[0;32m---> 51\u001b[0m \u001b[38;5;28;43mself\u001b[39;49m\u001b[38;5;241;43m.\u001b[39;49m\u001b[43m_open_handles\u001b[49m\u001b[43m(\u001b[49m\u001b[43msrc\u001b[49m\u001b[43m,\u001b[49m\u001b[43m \u001b[49m\u001b[43mkwds\u001b[49m\u001b[43m)\u001b[49m\n\u001b[1;32m     52\u001b[0m \u001b[38;5;28;01massert\u001b[39;00m \u001b[38;5;28mself\u001b[39m\u001b[38;5;241m.\u001b[39mhandles \u001b[38;5;129;01mis\u001b[39;00m \u001b[38;5;129;01mnot\u001b[39;00m \u001b[38;5;28;01mNone\u001b[39;00m\n\u001b[1;32m     54\u001b[0m \u001b[38;5;66;03m# Have to pass int, would break tests using TextReader directly otherwise :(\u001b[39;00m\n",
      "File \u001b[0;32m/Library/Frameworks/Python.framework/Versions/3.8/lib/python3.8/site-packages/pandas/io/parsers/base_parser.py:222\u001b[0m, in \u001b[0;36mParserBase._open_handles\u001b[0;34m(self, src, kwds)\u001b[0m\n\u001b[1;32m    218\u001b[0m \u001b[38;5;28;01mdef\u001b[39;00m \u001b[38;5;21m_open_handles\u001b[39m(\u001b[38;5;28mself\u001b[39m, src: FilePathOrBuffer, kwds: \u001b[38;5;28mdict\u001b[39m[\u001b[38;5;28mstr\u001b[39m, Any]) \u001b[38;5;241m-\u001b[39m\u001b[38;5;241m>\u001b[39m \u001b[38;5;28;01mNone\u001b[39;00m:\n\u001b[1;32m    219\u001b[0m     \u001b[38;5;124;03m\"\"\"\u001b[39;00m\n\u001b[1;32m    220\u001b[0m \u001b[38;5;124;03m    Let the readers open IOHandles after they are done with their potential raises.\u001b[39;00m\n\u001b[1;32m    221\u001b[0m \u001b[38;5;124;03m    \"\"\"\u001b[39;00m\n\u001b[0;32m--> 222\u001b[0m     \u001b[38;5;28mself\u001b[39m\u001b[38;5;241m.\u001b[39mhandles \u001b[38;5;241m=\u001b[39m \u001b[43mget_handle\u001b[49m\u001b[43m(\u001b[49m\n\u001b[1;32m    223\u001b[0m \u001b[43m        \u001b[49m\u001b[43msrc\u001b[49m\u001b[43m,\u001b[49m\n\u001b[1;32m    224\u001b[0m \u001b[43m        \u001b[49m\u001b[38;5;124;43m\"\u001b[39;49m\u001b[38;5;124;43mr\u001b[39;49m\u001b[38;5;124;43m\"\u001b[39;49m\u001b[43m,\u001b[49m\n\u001b[1;32m    225\u001b[0m \u001b[43m        \u001b[49m\u001b[43mencoding\u001b[49m\u001b[38;5;241;43m=\u001b[39;49m\u001b[43mkwds\u001b[49m\u001b[38;5;241;43m.\u001b[39;49m\u001b[43mget\u001b[49m\u001b[43m(\u001b[49m\u001b[38;5;124;43m\"\u001b[39;49m\u001b[38;5;124;43mencoding\u001b[39;49m\u001b[38;5;124;43m\"\u001b[39;49m\u001b[43m,\u001b[49m\u001b[43m \u001b[49m\u001b[38;5;28;43;01mNone\u001b[39;49;00m\u001b[43m)\u001b[49m\u001b[43m,\u001b[49m\n\u001b[1;32m    226\u001b[0m \u001b[43m        \u001b[49m\u001b[43mcompression\u001b[49m\u001b[38;5;241;43m=\u001b[39;49m\u001b[43mkwds\u001b[49m\u001b[38;5;241;43m.\u001b[39;49m\u001b[43mget\u001b[49m\u001b[43m(\u001b[49m\u001b[38;5;124;43m\"\u001b[39;49m\u001b[38;5;124;43mcompression\u001b[39;49m\u001b[38;5;124;43m\"\u001b[39;49m\u001b[43m,\u001b[49m\u001b[43m \u001b[49m\u001b[38;5;28;43;01mNone\u001b[39;49;00m\u001b[43m)\u001b[49m\u001b[43m,\u001b[49m\n\u001b[1;32m    227\u001b[0m \u001b[43m        \u001b[49m\u001b[43mmemory_map\u001b[49m\u001b[38;5;241;43m=\u001b[39;49m\u001b[43mkwds\u001b[49m\u001b[38;5;241;43m.\u001b[39;49m\u001b[43mget\u001b[49m\u001b[43m(\u001b[49m\u001b[38;5;124;43m\"\u001b[39;49m\u001b[38;5;124;43mmemory_map\u001b[39;49m\u001b[38;5;124;43m\"\u001b[39;49m\u001b[43m,\u001b[49m\u001b[43m \u001b[49m\u001b[38;5;28;43;01mFalse\u001b[39;49;00m\u001b[43m)\u001b[49m\u001b[43m,\u001b[49m\n\u001b[1;32m    228\u001b[0m \u001b[43m        \u001b[49m\u001b[43mstorage_options\u001b[49m\u001b[38;5;241;43m=\u001b[39;49m\u001b[43mkwds\u001b[49m\u001b[38;5;241;43m.\u001b[39;49m\u001b[43mget\u001b[49m\u001b[43m(\u001b[49m\u001b[38;5;124;43m\"\u001b[39;49m\u001b[38;5;124;43mstorage_options\u001b[39;49m\u001b[38;5;124;43m\"\u001b[39;49m\u001b[43m,\u001b[49m\u001b[43m \u001b[49m\u001b[38;5;28;43;01mNone\u001b[39;49;00m\u001b[43m)\u001b[49m\u001b[43m,\u001b[49m\n\u001b[1;32m    229\u001b[0m \u001b[43m        \u001b[49m\u001b[43merrors\u001b[49m\u001b[38;5;241;43m=\u001b[39;49m\u001b[43mkwds\u001b[49m\u001b[38;5;241;43m.\u001b[39;49m\u001b[43mget\u001b[49m\u001b[43m(\u001b[49m\u001b[38;5;124;43m\"\u001b[39;49m\u001b[38;5;124;43mencoding_errors\u001b[39;49m\u001b[38;5;124;43m\"\u001b[39;49m\u001b[43m,\u001b[49m\u001b[43m \u001b[49m\u001b[38;5;124;43m\"\u001b[39;49m\u001b[38;5;124;43mstrict\u001b[39;49m\u001b[38;5;124;43m\"\u001b[39;49m\u001b[43m)\u001b[49m\u001b[43m,\u001b[49m\n\u001b[1;32m    230\u001b[0m \u001b[43m    \u001b[49m\u001b[43m)\u001b[49m\n",
      "File \u001b[0;32m/Library/Frameworks/Python.framework/Versions/3.8/lib/python3.8/site-packages/pandas/io/common.py:680\u001b[0m, in \u001b[0;36mget_handle\u001b[0;34m(path_or_buf, mode, encoding, compression, memory_map, is_text, errors, storage_options)\u001b[0m\n\u001b[1;32m    678\u001b[0m             \u001b[38;5;28;01mraise\u001b[39;00m \u001b[38;5;167;01mValueError\u001b[39;00m(\u001b[38;5;124mf\u001b[39m\u001b[38;5;124m\"\u001b[39m\u001b[38;5;124mZero files found in ZIP file \u001b[39m\u001b[38;5;132;01m{\u001b[39;00mpath_or_buf\u001b[38;5;132;01m}\u001b[39;00m\u001b[38;5;124m\"\u001b[39m)\n\u001b[1;32m    679\u001b[0m         \u001b[38;5;28;01melse\u001b[39;00m:\n\u001b[0;32m--> 680\u001b[0m             \u001b[38;5;28;01mraise\u001b[39;00m \u001b[38;5;167;01mValueError\u001b[39;00m(\n\u001b[1;32m    681\u001b[0m                 \u001b[38;5;124m\"\u001b[39m\u001b[38;5;124mMultiple files found in ZIP file. \u001b[39m\u001b[38;5;124m\"\u001b[39m\n\u001b[1;32m    682\u001b[0m                 \u001b[38;5;124mf\u001b[39m\u001b[38;5;124m\"\u001b[39m\u001b[38;5;124mOnly one file per ZIP: \u001b[39m\u001b[38;5;132;01m{\u001b[39;00mzip_names\u001b[38;5;132;01m}\u001b[39;00m\u001b[38;5;124m\"\u001b[39m\n\u001b[1;32m    683\u001b[0m             )\n\u001b[1;32m    685\u001b[0m \u001b[38;5;66;03m# XZ Compression\u001b[39;00m\n\u001b[1;32m    686\u001b[0m \u001b[38;5;28;01melif\u001b[39;00m compression \u001b[38;5;241m==\u001b[39m \u001b[38;5;124m\"\u001b[39m\u001b[38;5;124mxz\u001b[39m\u001b[38;5;124m\"\u001b[39m:\n",
      "\u001b[0;31mValueError\u001b[0m: Multiple files found in ZIP file. Only one file per ZIP: ['202104-citibike-tripdata.csv', '__MACOSX/._202104-citibike-tripdata.csv']"
     ]
    }
   ],
   "source": [
    "data = pd.read_csv('https://s3.amazonaws.com/tripdata/202104-citibike-tripdata.csv.zip', nrows=3)\n",
    "data.head()"
   ]
  },
  {
   "cell_type": "markdown",
   "id": "afb64d8d",
   "metadata": {},
   "source": [
    "## High level data overview\n",
    "\n",
    "First we'll just check out what the data looks like before getting into some actual exploration."
   ]
  },
  {
   "cell_type": "code",
   "execution_count": 3,
   "id": "29f89530",
   "metadata": {},
   "outputs": [
    {
     "data": {
      "text/html": [
       "<div>\n",
       "<style scoped>\n",
       "    .dataframe tbody tr th:only-of-type {\n",
       "        vertical-align: middle;\n",
       "    }\n",
       "\n",
       "    .dataframe tbody tr th {\n",
       "        vertical-align: top;\n",
       "    }\n",
       "\n",
       "    .dataframe thead th {\n",
       "        text-align: right;\n",
       "    }\n",
       "</style>\n",
       "<table border=\"1\" class=\"dataframe\">\n",
       "  <thead>\n",
       "    <tr style=\"text-align: right;\">\n",
       "      <th></th>\n",
       "      <th>ride_id</th>\n",
       "      <th>rideable_type</th>\n",
       "      <th>started_at</th>\n",
       "      <th>ended_at</th>\n",
       "      <th>start_station_name</th>\n",
       "      <th>start_station_id</th>\n",
       "      <th>end_station_name</th>\n",
       "      <th>end_station_id</th>\n",
       "      <th>start_lat</th>\n",
       "      <th>start_lng</th>\n",
       "      <th>end_lat</th>\n",
       "      <th>end_lng</th>\n",
       "      <th>member_casual</th>\n",
       "    </tr>\n",
       "  </thead>\n",
       "  <tbody>\n",
       "    <tr>\n",
       "      <th>0</th>\n",
       "      <td>FB6B89D05B67EBED</td>\n",
       "      <td>classic_bike</td>\n",
       "      <td>2021-08-24 15:59:57</td>\n",
       "      <td>2021-08-24 16:42:07</td>\n",
       "      <td>Broadway &amp; E 21 St</td>\n",
       "      <td>6098.10</td>\n",
       "      <td>Central Park North &amp; Adam Clayton Powell Blvd</td>\n",
       "      <td>7617.07</td>\n",
       "      <td>40.739888</td>\n",
       "      <td>-73.989586</td>\n",
       "      <td>40.799484</td>\n",
       "      <td>-73.955613</td>\n",
       "      <td>member</td>\n",
       "    </tr>\n",
       "    <tr>\n",
       "      <th>1</th>\n",
       "      <td>E13DA3E30CEF8DFC</td>\n",
       "      <td>classic_bike</td>\n",
       "      <td>2021-08-18 13:12:01</td>\n",
       "      <td>2021-08-18 13:21:26</td>\n",
       "      <td>E 13 St &amp; 2 Ave</td>\n",
       "      <td>5820.08</td>\n",
       "      <td>Henry St &amp; Grand St</td>\n",
       "      <td>5294.04</td>\n",
       "      <td>40.731539</td>\n",
       "      <td>-73.985302</td>\n",
       "      <td>40.714211</td>\n",
       "      <td>-73.981095</td>\n",
       "      <td>member</td>\n",
       "    </tr>\n",
       "    <tr>\n",
       "      <th>2</th>\n",
       "      <td>56617490AB8AE69C</td>\n",
       "      <td>classic_bike</td>\n",
       "      <td>2021-08-17 14:31:23</td>\n",
       "      <td>2021-08-17 14:35:34</td>\n",
       "      <td>E 95 St &amp; 3 Ave</td>\n",
       "      <td>7365.13</td>\n",
       "      <td>E 84 St &amp; Park Ave</td>\n",
       "      <td>7243.04</td>\n",
       "      <td>40.784903</td>\n",
       "      <td>-73.950503</td>\n",
       "      <td>40.778627</td>\n",
       "      <td>-73.957721</td>\n",
       "      <td>member</td>\n",
       "    </tr>\n",
       "    <tr>\n",
       "      <th>3</th>\n",
       "      <td>CA908B271C7D6663</td>\n",
       "      <td>classic_bike</td>\n",
       "      <td>2021-08-11 10:00:12</td>\n",
       "      <td>2021-08-11 10:31:01</td>\n",
       "      <td>Madison Ave &amp; E 82 St</td>\n",
       "      <td>7188.13</td>\n",
       "      <td>E 84 St &amp; Park Ave</td>\n",
       "      <td>7243.04</td>\n",
       "      <td>40.778131</td>\n",
       "      <td>-73.960694</td>\n",
       "      <td>40.778627</td>\n",
       "      <td>-73.957721</td>\n",
       "      <td>casual</td>\n",
       "    </tr>\n",
       "    <tr>\n",
       "      <th>4</th>\n",
       "      <td>3E170CE1F4FE179D</td>\n",
       "      <td>classic_bike</td>\n",
       "      <td>2021-08-12 19:28:38</td>\n",
       "      <td>2021-08-12 19:48:50</td>\n",
       "      <td>E 74 St &amp; 1 Ave</td>\n",
       "      <td>6953.08</td>\n",
       "      <td>E 84 St &amp; Park Ave</td>\n",
       "      <td>7243.04</td>\n",
       "      <td>40.768974</td>\n",
       "      <td>-73.954823</td>\n",
       "      <td>40.778627</td>\n",
       "      <td>-73.957721</td>\n",
       "      <td>casual</td>\n",
       "    </tr>\n",
       "  </tbody>\n",
       "</table>\n",
       "</div>"
      ],
      "text/plain": [
       "            ride_id rideable_type           started_at             ended_at  \\\n",
       "0  FB6B89D05B67EBED  classic_bike  2021-08-24 15:59:57  2021-08-24 16:42:07   \n",
       "1  E13DA3E30CEF8DFC  classic_bike  2021-08-18 13:12:01  2021-08-18 13:21:26   \n",
       "2  56617490AB8AE69C  classic_bike  2021-08-17 14:31:23  2021-08-17 14:35:34   \n",
       "3  CA908B271C7D6663  classic_bike  2021-08-11 10:00:12  2021-08-11 10:31:01   \n",
       "4  3E170CE1F4FE179D  classic_bike  2021-08-12 19:28:38  2021-08-12 19:48:50   \n",
       "\n",
       "      start_station_name  start_station_id  \\\n",
       "0     Broadway & E 21 St           6098.10   \n",
       "1        E 13 St & 2 Ave           5820.08   \n",
       "2        E 95 St & 3 Ave           7365.13   \n",
       "3  Madison Ave & E 82 St           7188.13   \n",
       "4        E 74 St & 1 Ave           6953.08   \n",
       "\n",
       "                                end_station_name  end_station_id  start_lat  \\\n",
       "0  Central Park North & Adam Clayton Powell Blvd         7617.07  40.739888   \n",
       "1                            Henry St & Grand St         5294.04  40.731539   \n",
       "2                             E 84 St & Park Ave         7243.04  40.784903   \n",
       "3                             E 84 St & Park Ave         7243.04  40.778131   \n",
       "4                             E 84 St & Park Ave         7243.04  40.768974   \n",
       "\n",
       "   start_lng    end_lat    end_lng member_casual  \n",
       "0 -73.989586  40.799484 -73.955613        member  \n",
       "1 -73.985302  40.714211 -73.981095        member  \n",
       "2 -73.950503  40.778627 -73.957721        member  \n",
       "3 -73.960694  40.778627 -73.957721        casual  \n",
       "4 -73.954823  40.778627 -73.957721        casual  "
      ]
     },
     "execution_count": 3,
     "metadata": {},
     "output_type": "execute_result"
    }
   ],
   "source": [
    "data_sample.head()"
   ]
  },
  {
   "cell_type": "code",
   "execution_count": 4,
   "id": "5cb4f308",
   "metadata": {},
   "outputs": [
    {
     "name": "stdout",
     "output_type": "stream",
     "text": [
      "<class 'pandas.core.frame.DataFrame'>\n",
      "RangeIndex: 10 entries, 0 to 9\n",
      "Data columns (total 13 columns):\n",
      " #   Column              Non-Null Count  Dtype  \n",
      "---  ------              --------------  -----  \n",
      " 0   ride_id             10 non-null     object \n",
      " 1   rideable_type       10 non-null     object \n",
      " 2   started_at          10 non-null     object \n",
      " 3   ended_at            10 non-null     object \n",
      " 4   start_station_name  10 non-null     object \n",
      " 5   start_station_id    10 non-null     float64\n",
      " 6   end_station_name    10 non-null     object \n",
      " 7   end_station_id      10 non-null     float64\n",
      " 8   start_lat           10 non-null     float64\n",
      " 9   start_lng           10 non-null     float64\n",
      " 10  end_lat             10 non-null     float64\n",
      " 11  end_lng             10 non-null     float64\n",
      " 12  member_casual       10 non-null     object \n",
      "dtypes: float64(6), object(7)\n",
      "memory usage: 1.1+ KB\n"
     ]
    }
   ],
   "source": [
    "data_sample.info()"
   ]
  },
  {
   "cell_type": "markdown",
   "id": "96021b76",
   "metadata": {},
   "source": [
    "So the data is pretty intutive. Each ride has a unique id, and some geographic information about the ride. Additionally we can see whether the rider has a citibike membership or is paying for one-time trip (casual). \n",
    "\n",
    "Now we can load more data, though memory may be an issue for my machine with this much data. We can create a data load function that constrains memory used. By only taking a sample of each CSV loaded, peak memory use will be limited to the largest CSV file loaded, rather than the size of all CSVs loaded together (unless a large enough sample size per file is used that would exceed the largest single CSV). "
   ]
  },
  {
   "cell_type": "code",
   "execution_count": 5,
   "id": "3af23300",
   "metadata": {},
   "outputs": [
    {
     "name": "stderr",
     "output_type": "stream",
     "text": [
      "/var/folders/yb/nf2crlgx1kdgc_cpn2rkwzfm0000gn/T/ipykernel_2678/1855619808.py:26: DtypeWarning: Columns (7) have mixed types.Specify dtype option on import or set low_memory=False.\n",
      "  data = load_data(use_sample=True)\n"
     ]
    }
   ],
   "source": [
    "# Create function for optimized data load\n",
    "def load_data(use_sample=False):\n",
    "    \"\"\"\n",
    "    Load all files within the data folder at the root of this project (repo) folder. \n",
    "    \"\"\"\n",
    "    # Use relative filepath to access data\n",
    "    # glob gets all the csv files in the data directory\n",
    "    files = glob.glob(\"../data/*.csv\")\n",
    "    \n",
    "    # Read all csvs into dataframes, add to a list, and concat list\n",
    "    all_frames = []\n",
    "    for f in files:\n",
    "        data = pd.read_csv(f, \n",
    "                           parse_dates=['started_at', 'ended_at'],\n",
    "                           infer_datetime_format=True,\n",
    "                           cache_dates=True)\n",
    "        if use_sample == True:\n",
    "            data = data.sample(100000, random_state=0)\n",
    "        all_frames.append(data)\n",
    "        \n",
    "    data = pd.concat(all_frames)\n",
    "        \n",
    "    return data\n",
    "\n",
    "    \n",
    "data = load_data(use_sample=True)"
   ]
  },
  {
   "cell_type": "code",
   "execution_count": 6,
   "id": "ce80e811",
   "metadata": {},
   "outputs": [
    {
     "name": "stdout",
     "output_type": "stream",
     "text": [
      "<class 'pandas.core.frame.DataFrame'>\n",
      "Int64Index: 200000 entries, 36920 to 841536\n",
      "Data columns (total 13 columns):\n",
      " #   Column              Non-Null Count   Dtype         \n",
      "---  ------              --------------   -----         \n",
      " 0   ride_id             200000 non-null  object        \n",
      " 1   rideable_type       200000 non-null  object        \n",
      " 2   started_at          200000 non-null  datetime64[ns]\n",
      " 3   ended_at            200000 non-null  datetime64[ns]\n",
      " 4   start_station_name  199996 non-null  object        \n",
      " 5   start_station_id    199996 non-null  float64       \n",
      " 6   end_station_name    199081 non-null  object        \n",
      " 7   end_station_id      199081 non-null  object        \n",
      " 8   start_lat           200000 non-null  float64       \n",
      " 9   start_lng           200000 non-null  float64       \n",
      " 10  end_lat             199520 non-null  float64       \n",
      " 11  end_lng             199520 non-null  float64       \n",
      " 12  member_casual       200000 non-null  object        \n",
      "dtypes: datetime64[ns](2), float64(5), object(6)\n",
      "memory usage: 21.4+ MB\n"
     ]
    }
   ],
   "source": [
    "data.info()"
   ]
  },
  {
   "cell_type": "markdown",
   "id": "5f265e22",
   "metadata": {},
   "source": [
    "200k total rows with 100k rows per month, with a memory use of < 22mb. That's a good start. "
   ]
  },
  {
   "cell_type": "markdown",
   "id": "fee4bac1",
   "metadata": {},
   "source": [
    "# Data Exploration\n",
    "\n",
    "First we need to have a look at the data for cleanliness. \n",
    "\n",
    "From the .info() description above, we can immediately see there are some columns with fewer values than others. We'll check those out first. Let's start with a nulls heatmap. "
   ]
  },
  {
   "cell_type": "code",
   "execution_count": 7,
   "id": "1c0d5a46",
   "metadata": {},
   "outputs": [
    {
     "data": {
      "text/plain": [
       "<AxesSubplot:>"
      ]
     },
     "execution_count": 7,
     "metadata": {},
     "output_type": "execute_result"
    },
    {
     "data": {
      "image/png": "[encoded data removed]",
      "text/plain": [
       "<Figure size 432x288 with 2 Axes>"
      ]
     },
     "metadata": {
      "needs_background": "light"
     },
     "output_type": "display_data"
    }
   ],
   "source": [
    "sns.heatmap(data.isnull())"
   ]
  },
  {
   "cell_type": "markdown",
   "id": "9661e864",
   "metadata": {},
   "source": [
    "So a small number of nulls, related to the start and end stations and latitudes. From the dataframe information, there are more related to end stations so let's check those out. "
   ]
  },
  {
   "cell_type": "code",
   "execution_count": 8,
   "id": "9cb5e4d8",
   "metadata": {},
   "outputs": [
    {
     "name": "stdout",
     "output_type": "stream",
     "text": [
      "919\n"
     ]
    },
    {
     "data": {
      "text/html": [
       "<div>\n",
       "<style scoped>\n",
       "    .dataframe tbody tr th:only-of-type {\n",
       "        vertical-align: middle;\n",
       "    }\n",
       "\n",
       "    .dataframe tbody tr th {\n",
       "        vertical-align: top;\n",
       "    }\n",
       "\n",
       "    .dataframe thead th {\n",
       "        text-align: right;\n",
       "    }\n",
       "</style>\n",
       "<table border=\"1\" class=\"dataframe\">\n",
       "  <thead>\n",
       "    <tr style=\"text-align: right;\">\n",
       "      <th></th>\n",
       "      <th>ride_id</th>\n",
       "      <th>rideable_type</th>\n",
       "      <th>started_at</th>\n",
       "      <th>ended_at</th>\n",
       "      <th>start_station_name</th>\n",
       "      <th>start_station_id</th>\n",
       "      <th>end_station_name</th>\n",
       "      <th>end_station_id</th>\n",
       "      <th>start_lat</th>\n",
       "      <th>start_lng</th>\n",
       "      <th>end_lat</th>\n",
       "      <th>end_lng</th>\n",
       "      <th>member_casual</th>\n",
       "    </tr>\n",
       "  </thead>\n",
       "  <tbody>\n",
       "    <tr>\n",
       "      <th>1619708</th>\n",
       "      <td>417FB80E894A4788</td>\n",
       "      <td>classic_bike</td>\n",
       "      <td>2021-09-20 14:25:46</td>\n",
       "      <td>2021-09-20 15:22:24</td>\n",
       "      <td>27 St &amp; Hunter St</td>\n",
       "      <td>6310.06</td>\n",
       "      <td>NaN</td>\n",
       "      <td>NaN</td>\n",
       "      <td>40.748500</td>\n",
       "      <td>-73.941275</td>\n",
       "      <td>NaN</td>\n",
       "      <td>NaN</td>\n",
       "      <td>member</td>\n",
       "    </tr>\n",
       "    <tr>\n",
       "      <th>1578912</th>\n",
       "      <td>98A4DAB36A9ED500</td>\n",
       "      <td>classic_bike</td>\n",
       "      <td>2021-09-04 19:07:58</td>\n",
       "      <td>2021-09-04 19:21:32</td>\n",
       "      <td>W 42 St &amp; 6 Ave</td>\n",
       "      <td>6517.08</td>\n",
       "      <td>NaN</td>\n",
       "      <td>NaN</td>\n",
       "      <td>40.754920</td>\n",
       "      <td>-73.984550</td>\n",
       "      <td>40.75</td>\n",
       "      <td>-73.98</td>\n",
       "      <td>member</td>\n",
       "    </tr>\n",
       "    <tr>\n",
       "      <th>1624855</th>\n",
       "      <td>5C5511EAD2B197B2</td>\n",
       "      <td>classic_bike</td>\n",
       "      <td>2021-09-13 15:04:49</td>\n",
       "      <td>2021-09-13 15:57:23</td>\n",
       "      <td>W 47 St &amp; 6 Ave</td>\n",
       "      <td>6667.04</td>\n",
       "      <td>NaN</td>\n",
       "      <td>NaN</td>\n",
       "      <td>40.758397</td>\n",
       "      <td>-73.982550</td>\n",
       "      <td>40.78</td>\n",
       "      <td>-73.98</td>\n",
       "      <td>casual</td>\n",
       "    </tr>\n",
       "  </tbody>\n",
       "</table>\n",
       "</div>"
      ],
      "text/plain": [
       "                  ride_id rideable_type          started_at  \\\n",
       "1619708  417FB80E894A4788  classic_bike 2021-09-20 14:25:46   \n",
       "1578912  98A4DAB36A9ED500  classic_bike 2021-09-04 19:07:58   \n",
       "1624855  5C5511EAD2B197B2  classic_bike 2021-09-13 15:04:49   \n",
       "\n",
       "                   ended_at start_station_name  start_station_id  \\\n",
       "1619708 2021-09-20 15:22:24  27 St & Hunter St           6310.06   \n",
       "1578912 2021-09-04 19:21:32    W 42 St & 6 Ave           6517.08   \n",
       "1624855 2021-09-13 15:57:23    W 47 St & 6 Ave           6667.04   \n",
       "\n",
       "        end_station_name end_station_id  start_lat  start_lng  end_lat  \\\n",
       "1619708              NaN            NaN  40.748500 -73.941275      NaN   \n",
       "1578912              NaN            NaN  40.754920 -73.984550    40.75   \n",
       "1624855              NaN            NaN  40.758397 -73.982550    40.78   \n",
       "\n",
       "         end_lng member_casual  \n",
       "1619708      NaN        member  \n",
       "1578912   -73.98        member  \n",
       "1624855   -73.98        casual  "
      ]
     },
     "execution_count": 8,
     "metadata": {},
     "output_type": "execute_result"
    }
   ],
   "source": [
    "print(len(data.loc[data['end_station_id'].isnull()]))\n",
    "data.loc[data['end_station_id'].isnull()].head(3)"
   ]
  },
  {
   "cell_type": "markdown",
   "id": "eace41df",
   "metadata": {},
   "source": [
    "919 rides with no end station - those rides are no good to us and it's not reasonable to attempt imputing likely end stations when we have very few nulls compared to the greater dataset. We'll drop those rows. "
   ]
  },
  {
   "cell_type": "code",
   "execution_count": 9,
   "id": "569e58f6",
   "metadata": {},
   "outputs": [
    {
     "name": "stdout",
     "output_type": "stream",
     "text": [
      "<class 'pandas.core.frame.DataFrame'>\n",
      "Int64Index: 199081 entries, 36920 to 841536\n",
      "Data columns (total 13 columns):\n",
      " #   Column              Non-Null Count   Dtype         \n",
      "---  ------              --------------   -----         \n",
      " 0   ride_id             199081 non-null  object        \n",
      " 1   rideable_type       199081 non-null  object        \n",
      " 2   started_at          199081 non-null  datetime64[ns]\n",
      " 3   ended_at            199081 non-null  datetime64[ns]\n",
      " 4   start_station_name  199081 non-null  object        \n",
      " 5   start_station_id    199081 non-null  float64       \n",
      " 6   end_station_name    199081 non-null  object        \n",
      " 7   end_station_id      199081 non-null  object        \n",
      " 8   start_lat           199081 non-null  float64       \n",
      " 9   start_lng           199081 non-null  float64       \n",
      " 10  end_lat             199081 non-null  float64       \n",
      " 11  end_lng             199081 non-null  float64       \n",
      " 12  member_casual       199081 non-null  object        \n",
      "dtypes: datetime64[ns](2), float64(5), object(6)\n",
      "memory usage: 21.3+ MB\n"
     ]
    }
   ],
   "source": [
    "data.dropna(subset=['start_station_name', \n",
    "                    'start_station_id', \n",
    "                    'end_station_name', \n",
    "                    'end_station_id',\n",
    "                    'end_lat',\n",
    "                    'end_lng'], \n",
    "            inplace=True)\n",
    "\n",
    "data.info()"
   ]
  },
  {
   "cell_type": "markdown",
   "id": "6e96462d",
   "metadata": {},
   "source": [
    "All columns now the same length. Now let's do a few other checks on the data:\n",
    "\n",
    "- Is the member_casual column 100% strings matching \"member\" or \"casual\"?\n",
    "- Check lat/lons for \"unreasonable\" values\". "
   ]
  },
  {
   "cell_type": "code",
   "execution_count": 10,
   "id": "7c92d3cf",
   "metadata": {},
   "outputs": [
    {
     "name": "stdout",
     "output_type": "stream",
     "text": [
      "member_casual count %: 100.0\n"
     ]
    }
   ],
   "source": [
    "# Get percentage of member_casual values that match the correct strings\n",
    "member_casual_data_length = len(data.loc[data['member_casual'].isin(['member', 'casual'])])\n",
    "print(f'member_casual count %: {(member_casual_data_length / len(data)) * 100}')"
   ]
  },
  {
   "cell_type": "code",
   "execution_count": 11,
   "id": "697dc3fc",
   "metadata": {},
   "outputs": [
    {
     "data": {
      "text/html": [
       "<div>\n",
       "<style scoped>\n",
       "    .dataframe tbody tr th:only-of-type {\n",
       "        vertical-align: middle;\n",
       "    }\n",
       "\n",
       "    .dataframe tbody tr th {\n",
       "        vertical-align: top;\n",
       "    }\n",
       "\n",
       "    .dataframe thead th {\n",
       "        text-align: right;\n",
       "    }\n",
       "</style>\n",
       "<table border=\"1\" class=\"dataframe\">\n",
       "  <thead>\n",
       "    <tr style=\"text-align: right;\">\n",
       "      <th></th>\n",
       "      <th>start_lat</th>\n",
       "      <th>start_lng</th>\n",
       "      <th>end_lat</th>\n",
       "      <th>end_lng</th>\n",
       "    </tr>\n",
       "  </thead>\n",
       "  <tbody>\n",
       "    <tr>\n",
       "      <th>min</th>\n",
       "      <td>40.633385</td>\n",
       "      <td>-74.027472</td>\n",
       "      <td>40.633385</td>\n",
       "      <td>-74.071455</td>\n",
       "    </tr>\n",
       "    <tr>\n",
       "      <th>max</th>\n",
       "      <td>40.882260</td>\n",
       "      <td>-73.881450</td>\n",
       "      <td>40.882260</td>\n",
       "      <td>-73.881450</td>\n",
       "    </tr>\n",
       "  </tbody>\n",
       "</table>\n",
       "</div>"
      ],
      "text/plain": [
       "     start_lat  start_lng    end_lat    end_lng\n",
       "min  40.633385 -74.027472  40.633385 -74.071455\n",
       "max  40.882260 -73.881450  40.882260 -73.881450"
      ]
     },
     "execution_count": 11,
     "metadata": {},
     "output_type": "execute_result"
    }
   ],
   "source": [
    "# Check lat long values for integrity\n",
    "# Get the min and maxes and make sure they are reasonable for NYC\n",
    "data[['start_lat', 'start_lng', 'end_lat', 'end_lng']].describe().loc[['min', 'max']]"
   ]
  },
  {
   "cell_type": "markdown",
   "id": "a49f9c5a",
   "metadata": {},
   "source": [
    "So all the ride coordinates are within reasonable ranges and the member casual column is good to go. "
   ]
  },
  {
   "cell_type": "code",
   "execution_count": null,
   "id": "14a12ec0",
   "metadata": {},
   "outputs": [],
   "source": []
  }
 ],
 "metadata": {
  "kernelspec": {
   "display_name": "Python 3 (ipykernel)",
   "language": "python",
   "name": "python3"
  },
  "language_info": {
   "codemirror_mode": {
    "name": "ipython",
    "version": 3
   },
   "file_extension": ".py",
   "mimetype": "text/x-python",
   "name": "python",
   "nbconvert_exporter": "python",
   "pygments_lexer": "ipython3",
   "version": "3.8.9"
  }
 },
 "nbformat": 4,
 "nbformat_minor": 5
}
